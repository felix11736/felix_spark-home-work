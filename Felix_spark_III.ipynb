{
  "nbformat": 4,
  "nbformat_minor": 0,
  "metadata": {
    "colab": {
      "provenance": []
    },
    "kernelspec": {
      "name": "python3",
      "display_name": "Python 3"
    },
    "language_info": {
      "name": "python"
    }
  },
  "cells": [
    {
      "cell_type": "markdown",
      "source": [
        "FELIX ZEBAOTH\n"
      ],
      "metadata": {
        "id": "eBl8TDsv3t1D"
      }
    },
    {
      "cell_type": "code",
      "execution_count": 1,
      "metadata": {
        "colab": {
          "base_uri": "https://localhost:8080/"
        },
        "id": "4MMYwL6B3dd9",
        "outputId": "518f3b38-b7f0-4fa7-a92b-1f4c89146249"
      },
      "outputs": [
        {
          "output_type": "stream",
          "name": "stdout",
          "text": [
            "\u001b[2K     \u001b[90m━━━━━━━━━━━━━━━━━━━━━━━━━━━━━━━━━━━━━━━━\u001b[0m \u001b[32m317.0/317.0 MB\u001b[0m \u001b[31m3.2 MB/s\u001b[0m eta \u001b[36m0:00:00\u001b[0m\n",
            "\u001b[?25h  Preparing metadata (setup.py) ... \u001b[?25l\u001b[?25hdone\n",
            "  Building wheel for pyspark (setup.py) ... \u001b[?25l\u001b[?25hdone\n"
          ]
        }
      ],
      "source": [
        "!pip install -q pyspark"
      ]
    },
    {
      "cell_type": "code",
      "source": [
        "from pyspark.sql import SparkSession\n",
        "from pyspark.sql.functions import *\n",
        "from pyspark.sql.types import *"
      ],
      "metadata": {
        "id": "TUPoFA9t4IjV"
      },
      "execution_count": 2,
      "outputs": []
    },
    {
      "cell_type": "code",
      "source": [
        "spark = SparkSession \\\n",
        "    .builder \\\n",
        "    .master(\"local[*]\") \\\n",
        "    .appName(\"test\") \\\n",
        "    .getOrCreate()\n"
      ],
      "metadata": {
        "id": "HgZ_j2LW4MNh"
      },
      "execution_count": 3,
      "outputs": []
    },
    {
      "cell_type": "code",
      "source": [
        "from google.colab import files\n",
        "uploaded = files.upload()\n"
      ],
      "metadata": {
        "colab": {
          "base_uri": "https://localhost:8080/",
          "height": 215
        },
        "id": "vj8lDDDn4RQW",
        "outputId": "6bb5396e-946a-4d94-d2d8-e39e5861f58c"
      },
      "execution_count": 5,
      "outputs": [
        {
          "output_type": "display_data",
          "data": {
            "text/plain": [
              "<IPython.core.display.HTML object>"
            ],
            "text/html": [
              "\n",
              "     <input type=\"file\" id=\"files-14149642-6af3-4c7d-9b98-e7b6090d13b3\" name=\"files[]\" multiple disabled\n",
              "        style=\"border:none\" />\n",
              "     <output id=\"result-14149642-6af3-4c7d-9b98-e7b6090d13b3\">\n",
              "      Upload widget is only available when the cell has been executed in the\n",
              "      current browser session. Please rerun this cell to enable.\n",
              "      </output>\n",
              "      <script>// Copyright 2017 Google LLC\n",
              "//\n",
              "// Licensed under the Apache License, Version 2.0 (the \"License\");\n",
              "// you may not use this file except in compliance with the License.\n",
              "// You may obtain a copy of the License at\n",
              "//\n",
              "//      http://www.apache.org/licenses/LICENSE-2.0\n",
              "//\n",
              "// Unless required by applicable law or agreed to in writing, software\n",
              "// distributed under the License is distributed on an \"AS IS\" BASIS,\n",
              "// WITHOUT WARRANTIES OR CONDITIONS OF ANY KIND, either express or implied.\n",
              "// See the License for the specific language governing permissions and\n",
              "// limitations under the License.\n",
              "\n",
              "/**\n",
              " * @fileoverview Helpers for google.colab Python module.\n",
              " */\n",
              "(function(scope) {\n",
              "function span(text, styleAttributes = {}) {\n",
              "  const element = document.createElement('span');\n",
              "  element.textContent = text;\n",
              "  for (const key of Object.keys(styleAttributes)) {\n",
              "    element.style[key] = styleAttributes[key];\n",
              "  }\n",
              "  return element;\n",
              "}\n",
              "\n",
              "// Max number of bytes which will be uploaded at a time.\n",
              "const MAX_PAYLOAD_SIZE = 100 * 1024;\n",
              "\n",
              "function _uploadFiles(inputId, outputId) {\n",
              "  const steps = uploadFilesStep(inputId, outputId);\n",
              "  const outputElement = document.getElementById(outputId);\n",
              "  // Cache steps on the outputElement to make it available for the next call\n",
              "  // to uploadFilesContinue from Python.\n",
              "  outputElement.steps = steps;\n",
              "\n",
              "  return _uploadFilesContinue(outputId);\n",
              "}\n",
              "\n",
              "// This is roughly an async generator (not supported in the browser yet),\n",
              "// where there are multiple asynchronous steps and the Python side is going\n",
              "// to poll for completion of each step.\n",
              "// This uses a Promise to block the python side on completion of each step,\n",
              "// then passes the result of the previous step as the input to the next step.\n",
              "function _uploadFilesContinue(outputId) {\n",
              "  const outputElement = document.getElementById(outputId);\n",
              "  const steps = outputElement.steps;\n",
              "\n",
              "  const next = steps.next(outputElement.lastPromiseValue);\n",
              "  return Promise.resolve(next.value.promise).then((value) => {\n",
              "    // Cache the last promise value to make it available to the next\n",
              "    // step of the generator.\n",
              "    outputElement.lastPromiseValue = value;\n",
              "    return next.value.response;\n",
              "  });\n",
              "}\n",
              "\n",
              "/**\n",
              " * Generator function which is called between each async step of the upload\n",
              " * process.\n",
              " * @param {string} inputId Element ID of the input file picker element.\n",
              " * @param {string} outputId Element ID of the output display.\n",
              " * @return {!Iterable<!Object>} Iterable of next steps.\n",
              " */\n",
              "function* uploadFilesStep(inputId, outputId) {\n",
              "  const inputElement = document.getElementById(inputId);\n",
              "  inputElement.disabled = false;\n",
              "\n",
              "  const outputElement = document.getElementById(outputId);\n",
              "  outputElement.innerHTML = '';\n",
              "\n",
              "  const pickedPromise = new Promise((resolve) => {\n",
              "    inputElement.addEventListener('change', (e) => {\n",
              "      resolve(e.target.files);\n",
              "    });\n",
              "  });\n",
              "\n",
              "  const cancel = document.createElement('button');\n",
              "  inputElement.parentElement.appendChild(cancel);\n",
              "  cancel.textContent = 'Cancel upload';\n",
              "  const cancelPromise = new Promise((resolve) => {\n",
              "    cancel.onclick = () => {\n",
              "      resolve(null);\n",
              "    };\n",
              "  });\n",
              "\n",
              "  // Wait for the user to pick the files.\n",
              "  const files = yield {\n",
              "    promise: Promise.race([pickedPromise, cancelPromise]),\n",
              "    response: {\n",
              "      action: 'starting',\n",
              "    }\n",
              "  };\n",
              "\n",
              "  cancel.remove();\n",
              "\n",
              "  // Disable the input element since further picks are not allowed.\n",
              "  inputElement.disabled = true;\n",
              "\n",
              "  if (!files) {\n",
              "    return {\n",
              "      response: {\n",
              "        action: 'complete',\n",
              "      }\n",
              "    };\n",
              "  }\n",
              "\n",
              "  for (const file of files) {\n",
              "    const li = document.createElement('li');\n",
              "    li.append(span(file.name, {fontWeight: 'bold'}));\n",
              "    li.append(span(\n",
              "        `(${file.type || 'n/a'}) - ${file.size} bytes, ` +\n",
              "        `last modified: ${\n",
              "            file.lastModifiedDate ? file.lastModifiedDate.toLocaleDateString() :\n",
              "                                    'n/a'} - `));\n",
              "    const percent = span('0% done');\n",
              "    li.appendChild(percent);\n",
              "\n",
              "    outputElement.appendChild(li);\n",
              "\n",
              "    const fileDataPromise = new Promise((resolve) => {\n",
              "      const reader = new FileReader();\n",
              "      reader.onload = (e) => {\n",
              "        resolve(e.target.result);\n",
              "      };\n",
              "      reader.readAsArrayBuffer(file);\n",
              "    });\n",
              "    // Wait for the data to be ready.\n",
              "    let fileData = yield {\n",
              "      promise: fileDataPromise,\n",
              "      response: {\n",
              "        action: 'continue',\n",
              "      }\n",
              "    };\n",
              "\n",
              "    // Use a chunked sending to avoid message size limits. See b/62115660.\n",
              "    let position = 0;\n",
              "    do {\n",
              "      const length = Math.min(fileData.byteLength - position, MAX_PAYLOAD_SIZE);\n",
              "      const chunk = new Uint8Array(fileData, position, length);\n",
              "      position += length;\n",
              "\n",
              "      const base64 = btoa(String.fromCharCode.apply(null, chunk));\n",
              "      yield {\n",
              "        response: {\n",
              "          action: 'append',\n",
              "          file: file.name,\n",
              "          data: base64,\n",
              "        },\n",
              "      };\n",
              "\n",
              "      let percentDone = fileData.byteLength === 0 ?\n",
              "          100 :\n",
              "          Math.round((position / fileData.byteLength) * 100);\n",
              "      percent.textContent = `${percentDone}% done`;\n",
              "\n",
              "    } while (position < fileData.byteLength);\n",
              "  }\n",
              "\n",
              "  // All done.\n",
              "  yield {\n",
              "    response: {\n",
              "      action: 'complete',\n",
              "    }\n",
              "  };\n",
              "}\n",
              "\n",
              "scope.google = scope.google || {};\n",
              "scope.google.colab = scope.google.colab || {};\n",
              "scope.google.colab._files = {\n",
              "  _uploadFiles,\n",
              "  _uploadFilesContinue,\n",
              "};\n",
              "})(self);\n",
              "</script> "
            ]
          },
          "metadata": {}
        },
        {
          "output_type": "stream",
          "name": "stdout",
          "text": [
            "Saving book.txt to book.txt\n",
            "Saving fakefriends-header.csv to fakefriends-header.csv\n",
            "Saving fakefriends.csv to fakefriends.csv\n",
            "Saving sephora_website_dataset.csv to sephora_website_dataset.csv\n",
            "Saving worldcities.csv to worldcities.csv\n"
          ]
        }
      ]
    },
    {
      "cell_type": "code",
      "source": [
        "df1 = spark.read.option(\"delimiter\", \",\").csv(\"worldcities.csv\")\n",
        "df1.show()\n",
        "df1.printSchema()\n"
      ],
      "metadata": {
        "colab": {
          "base_uri": "https://localhost:8080/"
        },
        "id": "8A5WHym978pT",
        "outputId": "ca829d06-6ea7-4404-c5a1-a8888a84d23b"
      },
      "execution_count": 6,
      "outputs": [
        {
          "output_type": "stream",
          "name": "stdout",
          "text": [
            "+------------+------------+--------+--------+-------------+----+----+--------------------+-------+----------+----------+\n",
            "|         _c0|         _c1|     _c2|     _c3|          _c4| _c5| _c6|                 _c7|    _c8|       _c9|      _c10|\n",
            "+------------+------------+--------+--------+-------------+----+----+--------------------+-------+----------+----------+\n",
            "|        city|  city_ascii|     lat|     lng|      country|iso2|iso3|          admin_name|capital|population|        id|\n",
            "|       Tokyo|       Tokyo| 35.6897|139.6922|        Japan|  JP| JPN|               Tōkyō|primary|  37977000|1392685764|\n",
            "|     Jakarta|     Jakarta| -6.2146|106.8451|    Indonesia|  ID| IDN|             Jakarta|primary|  34540000|1360771077|\n",
            "|       Delhi|       Delhi| 28.6600| 77.2300|        India|  IN| IND|               Delhi|  admin|  29617000|1356872604|\n",
            "|      Mumbai|      Mumbai| 18.9667| 72.8333|        India|  IN| IND|         Mahārāshtra|  admin|  23355000|1356226629|\n",
            "|      Manila|      Manila| 14.6000|120.9833|  Philippines|  PH| PHL|              Manila|primary|  23088000|1608618140|\n",
            "|    Shanghai|    Shanghai| 31.1667|121.4667|        China|  CN| CHN|            Shanghai|  admin|  22120000|1156073548|\n",
            "|   São Paulo|   Sao Paulo|-23.5504|-46.6339|       Brazil|  BR| BRA|           São Paulo|  admin|  22046000|1076532519|\n",
            "|       Seoul|       Seoul| 37.5600|126.9900| Korea, South|  KR| KOR|               Seoul|primary|  21794000|1410836482|\n",
            "| Mexico City| Mexico City| 19.4333|-99.1333|       Mexico|  MX| MEX|    Ciudad de México|primary|  20996000|1484247881|\n",
            "|   Guangzhou|   Guangzhou| 23.1288|113.2590|        China|  CN| CHN|           Guangdong|  admin|  20902000|1156237133|\n",
            "|     Beijing|     Beijing| 39.9050|116.3914|        China|  CN| CHN|             Beijing|primary|  19433000|1156228865|\n",
            "|       Cairo|       Cairo| 30.0561| 31.2394|        Egypt|  EG| EGY|          Al Qāhirah|primary|  19372000|1818253931|\n",
            "|    New York|    New York| 40.6943|-73.9249|United States|  US| USA|            New York|   NULL|  18713220|1840034016|\n",
            "|     Kolkāta|     Kolkata| 22.5411| 88.3378|        India|  IN| IND|         West Bengal|  admin|  17560000|1356060520|\n",
            "|      Moscow|      Moscow| 55.7558| 37.6178|       Russia|  RU| RUS|              Moskva|primary|  17125000|1643318494|\n",
            "|     Bangkok|     Bangkok| 13.7500|100.5167|     Thailand|  TH| THA|Krung Thep Maha N...|primary|  17066000|1764068610|\n",
            "|Buenos Aires|Buenos Aires|-34.5997|-58.3819|    Argentina|  AR| ARG|Buenos Aires, Ciu...|primary|  16157000|1032717330|\n",
            "|    Shenzhen|    Shenzhen| 22.5350|114.0540|        China|  CN| CHN|           Guangdong|  minor|  15929000|1156158707|\n",
            "|       Dhaka|       Dhaka| 23.7289| 90.3944|   Bangladesh|  BD| BGD|               Dhaka|primary|  15443000|1050529279|\n",
            "+------------+------------+--------+--------+-------------+----+----+--------------------+-------+----------+----------+\n",
            "only showing top 20 rows\n",
            "\n",
            "root\n",
            " |-- _c0: string (nullable = true)\n",
            " |-- _c1: string (nullable = true)\n",
            " |-- _c2: string (nullable = true)\n",
            " |-- _c3: string (nullable = true)\n",
            " |-- _c4: string (nullable = true)\n",
            " |-- _c5: string (nullable = true)\n",
            " |-- _c6: string (nullable = true)\n",
            " |-- _c7: string (nullable = true)\n",
            " |-- _c8: string (nullable = true)\n",
            " |-- _c9: string (nullable = true)\n",
            " |-- _c10: string (nullable = true)\n",
            "\n"
          ]
        }
      ]
    },
    {
      "cell_type": "code",
      "source": [
        "\n",
        "manualSchema = StructType([\n",
        "               StructField(\"city\", StringType(), True),\n",
        "               StructField(\"city_ascii\", StringType(), True),\n",
        "               StructField(\"lat\", FloatType(), True),\n",
        "               StructField(\"lng\", FloatType(), True),\n",
        "               StructField(\"country\", StringType(), True),\n",
        "               StructField(\"iso2\", StringType(), True),\n",
        "               StructField(\"iso3\", StringType(), True),\n",
        "               StructField(\"admin_name\", StringType(), True),\n",
        "               StructField(\"capital\", StringType(), True),\n",
        "               StructField(\"population\", IntegerType(), True),\n",
        "               StructField(\"id\", StringType(), True)\n",
        "])\n",
        ""
      ],
      "metadata": {
        "id": "-GspOeRX8OS3"
      },
      "execution_count": 9,
      "outputs": []
    },
    {
      "cell_type": "code",
      "source": [
        "df_city = spark.read.format(\"csv\").option(\"header\", \"true\").schema(manualSchema).load(\"worldcities.csv\")\n",
        "df_city.show(10)\n",
        "df_city.printSchema()\n"
      ],
      "metadata": {
        "colab": {
          "base_uri": "https://localhost:8080/"
        },
        "id": "36RBJOsx8fhB",
        "outputId": "447ca000-fd61-48a1-d0f2-8e7efabdf949"
      },
      "execution_count": 10,
      "outputs": [
        {
          "output_type": "stream",
          "name": "stdout",
          "text": [
            "+-----------+-----------+--------+--------+------------+----+----+----------------+-------+----------+----------+\n",
            "|       city| city_ascii|     lat|     lng|     country|iso2|iso3|      admin_name|capital|population|        id|\n",
            "+-----------+-----------+--------+--------+------------+----+----+----------------+-------+----------+----------+\n",
            "|      Tokyo|      Tokyo| 35.6897|139.6922|       Japan|  JP| JPN|           Tōkyō|primary|  37977000|1392685764|\n",
            "|    Jakarta|    Jakarta| -6.2146|106.8451|   Indonesia|  ID| IDN|         Jakarta|primary|  34540000|1360771077|\n",
            "|      Delhi|      Delhi|   28.66|   77.23|       India|  IN| IND|           Delhi|  admin|  29617000|1356872604|\n",
            "|     Mumbai|     Mumbai| 18.9667| 72.8333|       India|  IN| IND|     Mahārāshtra|  admin|  23355000|1356226629|\n",
            "|     Manila|     Manila|    14.6|120.9833| Philippines|  PH| PHL|          Manila|primary|  23088000|1608618140|\n",
            "|   Shanghai|   Shanghai| 31.1667|121.4667|       China|  CN| CHN|        Shanghai|  admin|  22120000|1156073548|\n",
            "|  São Paulo|  Sao Paulo|-23.5504|-46.6339|      Brazil|  BR| BRA|       São Paulo|  admin|  22046000|1076532519|\n",
            "|      Seoul|      Seoul|   37.56|  126.99|Korea, South|  KR| KOR|           Seoul|primary|  21794000|1410836482|\n",
            "|Mexico City|Mexico City| 19.4333|-99.1333|      Mexico|  MX| MEX|Ciudad de México|primary|  20996000|1484247881|\n",
            "|  Guangzhou|  Guangzhou| 23.1288| 113.259|       China|  CN| CHN|       Guangdong|  admin|  20902000|1156237133|\n",
            "+-----------+-----------+--------+--------+------------+----+----+----------------+-------+----------+----------+\n",
            "only showing top 10 rows\n",
            "\n",
            "root\n",
            " |-- city: string (nullable = true)\n",
            " |-- city_ascii: string (nullable = true)\n",
            " |-- lat: float (nullable = true)\n",
            " |-- lng: float (nullable = true)\n",
            " |-- country: string (nullable = true)\n",
            " |-- iso2: string (nullable = true)\n",
            " |-- iso3: string (nullable = true)\n",
            " |-- admin_name: string (nullable = true)\n",
            " |-- capital: string (nullable = true)\n",
            " |-- population: integer (nullable = true)\n",
            " |-- id: string (nullable = true)\n",
            "\n"
          ]
        }
      ]
    },
    {
      "cell_type": "code",
      "source": [
        "df_city.createOrReplaceTempView(\"worldcities\")\n",
        "\n",
        "results = spark.sql(\"SELECT country, SUM(population) as total_population FROM worldcities GROUP BY country ORDER BY total_population DESC\")\n",
        "\n",
        "results.show(5)"
      ],
      "metadata": {
        "colab": {
          "base_uri": "https://localhost:8080/"
        },
        "id": "DpDFEBbW8lzD",
        "outputId": "69a14f8b-d70a-49ee-b284-f394820273fc"
      },
      "execution_count": 11,
      "outputs": [
        {
          "output_type": "stream",
          "name": "stdout",
          "text": [
            "+-------------+----------------+\n",
            "|      country|total_population|\n",
            "+-------------+----------------+\n",
            "|        China|      1446111841|\n",
            "|United States|       401453709|\n",
            "|        India|       270309635|\n",
            "|       Brazil|       198554881|\n",
            "|        Japan|       138634635|\n",
            "+-------------+----------------+\n",
            "only showing top 5 rows\n",
            "\n"
          ]
        }
      ]
    },
    {
      "cell_type": "code",
      "source": [
        "\n",
        "results.write.mode('overwrite').option('compression', 'snappy').save('total_population_worldcities')"
      ],
      "metadata": {
        "id": "psyki9va8onh"
      },
      "execution_count": 12,
      "outputs": []
    }
  ]
}